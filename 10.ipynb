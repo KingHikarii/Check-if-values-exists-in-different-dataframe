{
 "cells": [
  {
   "cell_type": "code",
   "execution_count": 32,
   "id": "4242b430",
   "metadata": {},
   "outputs": [],
   "source": [
    "import pandas as pd\n",
    "import numpy as np"
   ]
  },
  {
   "cell_type": "code",
   "execution_count": 33,
   "id": "f07cd573",
   "metadata": {},
   "outputs": [],
   "source": [
    "DataFrame = pd.read_csv('Names and ID.csv')"
   ]
  },
  {
   "cell_type": "code",
   "execution_count": 34,
   "id": "3b9c8550",
   "metadata": {},
   "outputs": [
    {
     "data": {
      "text/plain": [
       "['Id', 'Name']"
      ]
     },
     "execution_count": 34,
     "metadata": {},
     "output_type": "execute_result"
    }
   ],
   "source": [
    "list(DataFrame.columns)"
   ]
  },
  {
   "cell_type": "code",
   "execution_count": 35,
   "id": "fdd4dfba",
   "metadata": {},
   "outputs": [],
   "source": [
    "DataFrame = DataFrame.drop(columns = ['Name'], axis = 1)"
   ]
  },
  {
   "cell_type": "code",
   "execution_count": 36,
   "id": "afbe84f1",
   "metadata": {},
   "outputs": [],
   "source": [
    "DataFrame = DataFrame.rename(columns = {'Id': 'ID'})"
   ]
  },
  {
   "cell_type": "code",
   "execution_count": 37,
   "id": "d0a0c805",
   "metadata": {},
   "outputs": [
    {
     "data": {
      "text/html": [
       "<div>\n",
       "<style scoped>\n",
       "    .dataframe tbody tr th:only-of-type {\n",
       "        vertical-align: middle;\n",
       "    }\n",
       "\n",
       "    .dataframe tbody tr th {\n",
       "        vertical-align: top;\n",
       "    }\n",
       "\n",
       "    .dataframe thead th {\n",
       "        text-align: right;\n",
       "    }\n",
       "</style>\n",
       "<table border=\"1\" class=\"dataframe\">\n",
       "  <thead>\n",
       "    <tr style=\"text-align: right;\">\n",
       "      <th></th>\n",
       "      <th>ID</th>\n",
       "    </tr>\n",
       "  </thead>\n",
       "  <tbody>\n",
       "    <tr>\n",
       "      <th>0</th>\n",
       "      <td>101</td>\n",
       "    </tr>\n",
       "    <tr>\n",
       "      <th>1</th>\n",
       "      <td>102</td>\n",
       "    </tr>\n",
       "    <tr>\n",
       "      <th>2</th>\n",
       "      <td>103</td>\n",
       "    </tr>\n",
       "    <tr>\n",
       "      <th>3</th>\n",
       "      <td>104</td>\n",
       "    </tr>\n",
       "    <tr>\n",
       "      <th>4</th>\n",
       "      <td>105</td>\n",
       "    </tr>\n",
       "  </tbody>\n",
       "</table>\n",
       "</div>"
      ],
      "text/plain": [
       "    ID\n",
       "0  101\n",
       "1  102\n",
       "2  103\n",
       "3  104\n",
       "4  105"
      ]
     },
     "execution_count": 37,
     "metadata": {},
     "output_type": "execute_result"
    }
   ],
   "source": [
    "DataFrame.sort_values('ID', ascending = True)"
   ]
  },
  {
   "cell_type": "code",
   "execution_count": 38,
   "id": "b11a5570",
   "metadata": {},
   "outputs": [],
   "source": [
    "oida = []\n",
    "counter = 0\n",
    "\n",
    "for i in range(len(DataFrame.index)):\n",
    "    oida.append(DataFrame['ID'].values[counter])\n",
    "    counter += 1\n",
    "    \n",
    "oida_list = []\n",
    "\n",
    "counter = 0\n",
    "\n",
    "for i in range(len(oida)):\n",
    "    oida_list.append(oida[counter].tolist())\n",
    "    counter += 1\n",
    "    "
   ]
  },
  {
   "cell_type": "markdown",
   "id": "a105e13d",
   "metadata": {},
   "source": [
    "# Importing Table B"
   ]
  },
  {
   "cell_type": "code",
   "execution_count": 39,
   "id": "dc282456",
   "metadata": {},
   "outputs": [],
   "source": [
    "Data_Frame_2 = pd.read_csv(\"Names and ID 2.csv\")"
   ]
  },
  {
   "cell_type": "code",
   "execution_count": 40,
   "id": "c61a8d6f",
   "metadata": {},
   "outputs": [],
   "source": [
    "Data_Frame_2 = Data_Frame_2.drop(columns = 'Names')"
   ]
  },
  {
   "cell_type": "code",
   "execution_count": 41,
   "id": "b69101b1",
   "metadata": {},
   "outputs": [
    {
     "data": {
      "text/plain": [
       "5"
      ]
     },
     "execution_count": 41,
     "metadata": {},
     "output_type": "execute_result"
    }
   ],
   "source": [
    "record_list = []\n",
    "\n",
    "for chunk in pd.read_csv(\"Names and ID 2.csv\", chunksize=5000):\n",
    "    record_list.append(chunk)\n",
    "    \n",
    "len(record_list[0]['ID'].tolist())"
   ]
  },
  {
   "cell_type": "code",
   "execution_count": 42,
   "id": "2f73fa33",
   "metadata": {},
   "outputs": [],
   "source": [
    "#record_list[0]\n",
    "list_a = []\n",
    "\n",
    "\n",
    "for i in range(len(record_list[0])):\n",
    "    list_a = record_list[0]['ID'].tolist()\n",
    "    \n",
    "def comparison_test(oida_list, list_a_u):\n",
    "    oida = oida_list\n",
    "    list_a_u = list_a\n",
    "    \n",
    "    return oida_list, list_a\n",
    "\n",
    "oida_and_list = comparison_test(oida_list, list_a)"
   ]
  },
  {
   "cell_type": "code",
   "execution_count": 43,
   "id": "8cf43136",
   "metadata": {},
   "outputs": [
    {
     "name": "stdout",
     "output_type": "stream",
     "text": [
      "101\n",
      "102\n",
      "103\n",
      "104\n",
      "105\n"
     ]
    }
   ],
   "source": [
    "for x in oida_and_list[0]:\n",
    "    print(x)"
   ]
  },
  {
   "cell_type": "code",
   "execution_count": 44,
   "id": "387f1d00",
   "metadata": {},
   "outputs": [
    {
     "name": "stdout",
     "output_type": "stream",
     "text": [
      "Match found! 101\n",
      "Match found! 102\n",
      "Match found! 105\n"
     ]
    }
   ],
   "source": [
    "match_found_list = []\n",
    "\n",
    "for i in range(len(oida_and_list[1])):\n",
    "    if oida_and_list[1][i] not in oida_and_list[0]:\n",
    "        #print(\"No match found so far!\", i)\n",
    "        pass\n",
    "    else :\n",
    "        match_found_list.append(oida_and_list[1][i])\n",
    "        print('Match found!', oida_and_list[1][i])\n",
    "        \n"
   ]
  }
 ],
 "metadata": {
  "kernelspec": {
   "display_name": "Python 3 (ipykernel)",
   "language": "python",
   "name": "python3"
  },
  "language_info": {
   "codemirror_mode": {
    "name": "ipython",
    "version": 3
   },
   "file_extension": ".py",
   "mimetype": "text/x-python",
   "name": "python",
   "nbconvert_exporter": "python",
   "pygments_lexer": "ipython3",
   "version": "3.11.3"
  }
 },
 "nbformat": 4,
 "nbformat_minor": 5
}
